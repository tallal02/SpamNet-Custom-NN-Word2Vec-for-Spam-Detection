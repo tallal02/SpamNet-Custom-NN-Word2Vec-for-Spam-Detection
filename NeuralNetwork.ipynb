{
 "cells": [
  {
   "cell_type": "markdown",
   "metadata": {},
   "source": [
    "# **1. Custom Functions**"
   ]
  },
  {
   "cell_type": "code",
   "execution_count": 27,
   "metadata": {},
   "outputs": [],
   "source": [
    "import random\n",
    "import math\n",
    "import numpy as np\n",
    "import matplotlib.pyplot as plt\n",
    "# ONLY ADDED NUMPY AND MATPLOTIB SO I CAN SHOW CONFUSION MATRIX AS A PLOT"
   ]
  },
  {
   "cell_type": "markdown",
   "metadata": {},
   "source": [
    "# **2. Data Loading Functions**"
   ]
  },
  {
   "cell_type": "markdown",
   "metadata": {},
   "source": [
    "# *2.1 Load Embeddings and Vocabulary*"
   ]
  },
  {
   "cell_type": "code",
   "execution_count": 28,
   "metadata": {},
   "outputs": [],
   "source": [
    "def load_embeddings(file_name):\n",
    "    embeddings = {}\n",
    "    with open(file_name, 'r', encoding='utf-8') as f:\n",
    "        for line in f:\n",
    "            parts = line.strip().split()\n",
    "            idx = int(parts[0])\n",
    "            vector = [float(v) for v in parts[1:]]\n",
    "            embeddings[idx] = vector\n",
    "    return embeddings\n",
    "\n",
    "def load_vocab(file_name):\n",
    "    vocab = {}\n",
    "    with open(file_name, 'r', encoding='utf-8') as f:\n",
    "        for line in f:\n",
    "            word, idx = line.strip().split()\n",
    "            vocab[word] = int(idx)\n",
    "    return vocab"
   ]
  },
  {
   "cell_type": "markdown",
   "metadata": {},
   "source": [
    "# *2.2 Load Tokenized Texts and Labels*"
   ]
  },
  {
   "cell_type": "code",
   "execution_count": 29,
   "metadata": {},
   "outputs": [],
   "source": [
    "def load_list(file_name):\n",
    "    data_list = []\n",
    "    with open(file_name, 'r', encoding='utf-8') as f:\n",
    "        for line in f:\n",
    "            data_list.append(line.strip().split())\n",
    "    return data_list\n",
    "\n",
    "def load_labels(file_name):\n",
    "    labels = []\n",
    "    with open(file_name, 'r', encoding='utf-8') as f:\n",
    "        for line in f:\n",
    "            labels.append(int(line.strip()))\n",
    "    return labels"
   ]
  },
  {
   "cell_type": "markdown",
   "metadata": {},
   "source": [
    "# **3. Neural Network Functions**"
   ]
  },
  {
   "cell_type": "markdown",
   "metadata": {},
   "source": [
    "# *3.1 Initialize Parameters*"
   ]
  },
  {
   "cell_type": "code",
   "execution_count": 30,
   "metadata": {},
   "outputs": [],
   "source": [
    "def initialize_parameters(input_size, hidden_node_size1, hidden_node_size2, output_size):\n",
    "    W1 = np.random.uniform(-0.5, 0.5, (input_size, hidden_node_size1))\n",
    "    b1 = np.zeros((hidden_node_size1,))\n",
    "    W2 = np.random.uniform(-0.5, 0.5, (hidden_node_size1, hidden_node_size2))\n",
    "    b2 = np.zeros((hidden_node_size2,))\n",
    "    W3 = np.random.uniform(-0.5, 0.5, (hidden_node_size2, output_size))\n",
    "    b3 = np.zeros((output_size,))\n",
    "    return W1, b1, W2, b2, W3, b3"
   ]
  },
  {
   "cell_type": "markdown",
   "metadata": {},
   "source": [
    "# *3.2 Forward Pass*"
   ]
  },
  {
   "cell_type": "code",
   "execution_count": 31,
   "metadata": {},
   "outputs": [],
   "source": [
    "def forward_pass(X, W1, b1, W2, b2, W3, b3, dropout_rate=0.0):\n",
    "    Z1 = np.dot(X, W1) + b1\n",
    "    A1 = np.tanh(Z1)\n",
    "    A1 *= np.random.binomial(1, 1 - dropout_rate, size=A1.shape)\n",
    "    Z2 = np.dot(A1, W2) + b2\n",
    "    A2 = np.tanh(Z2)\n",
    "    A2 *= np.random.binomial(1, 1 - dropout_rate, size=A2.shape)\n",
    "    Z3 = np.dot(A2, W3) + b3\n",
    "    A3 = 1 / (1 + np.exp(-Z3))\n",
    "    return Z1, A1, Z2, A2, Z3, A3"
   ]
  },
  {
   "cell_type": "markdown",
   "metadata": {},
   "source": [
    "# *3.3 Backward Pass*"
   ]
  },
  {
   "cell_type": "code",
   "execution_count": 32,
   "metadata": {},
   "outputs": [],
   "source": [
    "def backward_pass(X, y, Z1, A1, Z2, A2, Z3, A3, W2, W3):\n",
    "    dZ3 = A3 - y\n",
    "    dW3 = np.dot(A2.reshape(-1,1), dZ3.reshape(1,-1))\n",
    "    db3 = dZ3\n",
    "    dA2 = np.dot(W3, dZ3)\n",
    "    dZ2 = dA2 * (1 - np.tanh(Z2)**2)\n",
    "    dW2 = np.dot(A1.reshape(-1,1), dZ2.reshape(1,-1))\n",
    "    db2 = dZ2\n",
    "    dA1 = np.dot(W2, dZ2)\n",
    "    dZ1 = dA1 * (1 - np.tanh(Z1)**2)\n",
    "    dW1 = np.dot(X.reshape(-1,1), dZ1.reshape(1,-1))\n",
    "    db1 = dZ1\n",
    "    return dW1, db1, dW2, db2, dW3, db3"
   ]
  },
  {
   "cell_type": "markdown",
   "metadata": {},
   "source": [
    "# *3.4 Updating Parameters*"
   ]
  },
  {
   "cell_type": "code",
   "execution_count": 33,
   "metadata": {},
   "outputs": [],
   "source": [
    "def update_parameters(W1, b1, W2, b2, W3, b3, dW1, db1, dW2, db2, dW3, db3, learning_rate, l2_lambda):\n",
    "    W1 -= learning_rate * (dW1 + l2_lambda * W1)\n",
    "    b1 -= learning_rate * db1\n",
    "    W2 -= learning_rate * (dW2 + l2_lambda * W2)\n",
    "    b2 -= learning_rate * db2\n",
    "    W3 -= learning_rate * (dW3 + l2_lambda * W3)\n",
    "    b3 -= learning_rate * db3\n",
    "    return W1, b1, W2, b2, W3, b3"
   ]
  },
  {
   "cell_type": "markdown",
   "metadata": {},
   "source": [
    "# *3.5 Computing Loss Function*"
   ]
  },
  {
   "cell_type": "code",
   "execution_count": 34,
   "metadata": {},
   "outputs": [],
   "source": [
    "def compute_loss(y_true, y_pred, class_weight):\n",
    "    y_pred = np.clip(y_pred, 1e-7, 1 - 1e-7)\n",
    "    loss = - (class_weight * y_true * np.log(y_pred) + (1 - y_true) * np.log(1 - y_pred))\n",
    "    return loss"
   ]
  },
  {
   "cell_type": "markdown",
   "metadata": {},
   "source": [
    "# *3.6 Training Function* "
   ]
  },
  {
   "cell_type": "code",
   "execution_count": 35,
   "metadata": {},
   "outputs": [],
   "source": [
    "def train_neural_network(X_train, y_train, input_size, hidden_node_size1, hidden_node_size2, output_size, epochs, learning_rate, dropout_rate=0.0, l2_lambda=0.001):\n",
    "    W1, b1, W2, b2, W3, b3 = initialize_parameters(input_size, hidden_node_size1, hidden_node_size2, output_size)\n",
    "    class_weight = 1.5  # Adjust as needed\n",
    "    for epoch in range(epochs):\n",
    "        combined = list(zip(X_train, y_train))\n",
    "        random.shuffle(combined)\n",
    "        X_train_shuffled, y_train_shuffled = zip(*combined)\n",
    "        total_loss = 0.0\n",
    "        for X, y in zip(X_train_shuffled, y_train_shuffled):\n",
    "            X = np.array(X)\n",
    "            Z1, A1, Z2, A2, Z3, A3 = forward_pass(X, W1, b1, W2, b2, W3, b3, dropout_rate)\n",
    "            loss = compute_loss(y, A3, class_weight)\n",
    "            total_loss += loss\n",
    "            dW1, db1, dW2, db2, dW3, db3 = backward_pass(X, y, Z1, A1, Z2, A2, Z3, A3, W2, W3)\n",
    "            W1, b1, W2, b2, W3, b3 = update_parameters(\n",
    "                W1, b1, W2, b2, W3, b3,\n",
    "                dW1, db1, dW2, db2, dW3, db3,\n",
    "                learning_rate, l2_lambda\n",
    "            )\n",
    "        print('Epoch', epoch + 1, 'Loss:', total_loss)\n",
    "    return W1, b1, W2, b2, W3, b3"
   ]
  },
  {
   "cell_type": "markdown",
   "metadata": {},
   "source": [
    "# *3.7 Prediction Function*"
   ]
  },
  {
   "cell_type": "code",
   "execution_count": 36,
   "metadata": {},
   "outputs": [],
   "source": [
    "def predict(X, W1, b1, W2, b2, W3, b3, threshold=0.5):\n",
    "    _, _, _, _, _, A3 = forward_pass(np.array(X), W1, b1, W2, b2, W3, b3)\n",
    "    prediction = A3[0]\n",
    "    return 1 if prediction >= threshold else 0"
   ]
  },
  {
   "cell_type": "markdown",
   "metadata": {},
   "source": [
    "# *3.8 Evaluation Function*"
   ]
  },
  {
   "cell_type": "code",
   "execution_count": 37,
   "metadata": {},
   "outputs": [],
   "source": [
    "def evaluate_model(X_test, y_test, W1, b1, W2, b2, W3, b3, threshold=0.5):\n",
    "    TP = FP = TN = FN = 0\n",
    "    for X, y in zip(X_test, y_test):\n",
    "        y_pred = predict(X, W1, b1, W2, b2, W3, b3, threshold)\n",
    "        if y == 1 and y_pred == 1:\n",
    "            TP += 1\n",
    "        elif y == 0 and y_pred == 0:\n",
    "            TN += 1\n",
    "        elif y == 0 and y_pred == 1:\n",
    "            FP += 1\n",
    "        elif y == 1 and y_pred == 0:\n",
    "            FN += 1\n",
    "    total = TP + TN + FP + FN\n",
    "    accuracy = (TP + TN) / total if total != 0 else 0.0\n",
    "    precision = TP / (TP + FP + 1e-7) if (TP + FP) != 0 else 0.0\n",
    "    recall = TP / (TP + FN + 1e-7) if (TP + FN) != 0 else 0.0\n",
    "    f1_score = 2 * precision * recall / (precision + recall + 1e-7) if (precision + recall) != 0 else 0.0\n",
    "    print('Accuracy:', accuracy)\n",
    "    print('Precision:', precision)\n",
    "    print('Recall:', recall)\n",
    "    print('F1 Score:', f1_score)\n",
    "    return np.array([[TP, FN],\n",
    "                     [FP, TN]])"
   ]
  },
  {
   "cell_type": "markdown",
   "metadata": {},
   "source": [
    "# **4. Data Preparation and Training**"
   ]
  },
  {
   "cell_type": "markdown",
   "metadata": {},
   "source": [
    "# *4.1 Set Parameters*"
   ]
  },
  {
   "cell_type": "code",
   "execution_count": 44,
   "metadata": {},
   "outputs": [],
   "source": [
    "embedding_dim = 10  # Should match the embedding dimension used in Word2Vec\n",
    "input_size = 12 * embedding_dim  # 120\n",
    "hidden_node_size1 = 2  # Adjusted hidden layer size\n",
    "hidden_node_size2 = 8   # Second hidden layer size\n",
    "output_size = 1\n",
    "epochs = 100  # Number of epochs\n",
    "learning_rate = 0.003\n",
    "dropout_rate = 0.2\n",
    "l2_lambda = 0.001"
   ]
  },
  {
   "cell_type": "markdown",
   "metadata": {},
   "source": [
    "# *4.2 Load Data*"
   ]
  },
  {
   "cell_type": "code",
   "execution_count": 45,
   "metadata": {},
   "outputs": [],
   "source": [
    "word_embeddings = load_embeddings('word_embeddings.txt')\n",
    "vocab = load_vocab('vocab.txt')\n",
    "tokenized_texts = load_list('tokenized_texts.txt')\n",
    "labels = load_labels('labels.txt')"
   ]
  },
  {
   "cell_type": "markdown",
   "metadata": {},
   "source": [
    "# *4.3 Vectorize Texts*"
   ]
  },
  {
   "cell_type": "code",
   "execution_count": 46,
   "metadata": {},
   "outputs": [],
   "source": [
    "def vectorize_texts(tokenized_texts, vocab, word_embeddings, max_words=12):\n",
    "    vectorized_texts = []\n",
    "    for words in tokenized_texts:\n",
    "        words = words[:max_words]\n",
    "        while len(words) < max_words:\n",
    "            words.append('<PAD>')\n",
    "        vector = []\n",
    "        for word in words:\n",
    "            if word in vocab:\n",
    "                idx = vocab[word]\n",
    "                vector.extend(word_embeddings[idx])\n",
    "            else:\n",
    "                vector.extend([0.0] * embedding_dim)\n",
    "        vectorized_texts.append(vector)\n",
    "    return vectorized_texts\n",
    "\n",
    "X = vectorize_texts(tokenized_texts, vocab, word_embeddings)\n",
    "y = labels"
   ]
  },
  {
   "cell_type": "markdown",
   "metadata": {},
   "source": [
    "# *4.4 Split Data into Training and Testing Sets*"
   ]
  },
  {
   "cell_type": "code",
   "execution_count": 47,
   "metadata": {},
   "outputs": [],
   "source": [
    "def train_test_split(X, y, test_size=0.2):\n",
    "    combined = list(zip(X, y))\n",
    "    random.shuffle(combined)\n",
    "    split_idx = int(len(combined) * (1 - test_size))\n",
    "    train_data = combined[:split_idx]\n",
    "    test_data = combined[split_idx:]\n",
    "    X_train, y_train = zip(*train_data)\n",
    "    X_test, y_test = zip(*test_data)\n",
    "    return list(X_train), list(y_train), list(X_test), list(y_test)\n",
    "\n",
    "X_train, y_train, X_test, y_test = train_test_split(X, y)"
   ]
  },
  {
   "cell_type": "markdown",
   "metadata": {},
   "source": [
    "# *4.5 Train the Neural Network*"
   ]
  },
  {
   "cell_type": "code",
   "execution_count": 48,
   "metadata": {},
   "outputs": [
    {
     "name": "stdout",
     "output_type": "stream",
     "text": [
      "Epoch 1 Loss: [687.06734604]\n",
      "Epoch 2 Loss: [679.17807876]\n",
      "Epoch 3 Loss: [678.87192985]\n",
      "Epoch 4 Loss: [668.36783518]\n",
      "Epoch 5 Loss: [658.13657413]\n",
      "Epoch 6 Loss: [653.12709438]\n",
      "Epoch 7 Loss: [647.62185026]\n",
      "Epoch 8 Loss: [632.58223935]\n",
      "Epoch 9 Loss: [639.93993583]\n",
      "Epoch 10 Loss: [623.79055956]\n",
      "Epoch 11 Loss: [606.35178486]\n",
      "Epoch 12 Loss: [587.34904105]\n",
      "Epoch 13 Loss: [585.24219235]\n",
      "Epoch 14 Loss: [566.13112411]\n",
      "Epoch 15 Loss: [584.27779754]\n",
      "Epoch 16 Loss: [557.05094806]\n",
      "Epoch 17 Loss: [551.17974486]\n",
      "Epoch 18 Loss: [526.87658286]\n",
      "Epoch 19 Loss: [527.97558655]\n",
      "Epoch 20 Loss: [526.35393687]\n",
      "Epoch 21 Loss: [504.12357172]\n",
      "Epoch 22 Loss: [489.12708272]\n",
      "Epoch 23 Loss: [472.07113258]\n",
      "Epoch 24 Loss: [486.10110312]\n",
      "Epoch 25 Loss: [467.65756455]\n",
      "Epoch 26 Loss: [458.21749827]\n",
      "Epoch 27 Loss: [443.70513323]\n",
      "Epoch 28 Loss: [451.17736238]\n",
      "Epoch 29 Loss: [442.97905932]\n",
      "Epoch 30 Loss: [429.66672214]\n",
      "Epoch 31 Loss: [449.80774925]\n",
      "Epoch 32 Loss: [415.20200006]\n",
      "Epoch 33 Loss: [433.34261583]\n",
      "Epoch 34 Loss: [422.45618042]\n",
      "Epoch 35 Loss: [428.21748217]\n",
      "Epoch 36 Loss: [422.45209805]\n",
      "Epoch 37 Loss: [421.95342652]\n",
      "Epoch 38 Loss: [416.83472538]\n",
      "Epoch 39 Loss: [423.05505667]\n",
      "Epoch 40 Loss: [411.7494508]\n",
      "Epoch 41 Loss: [414.61914188]\n",
      "Epoch 42 Loss: [409.59162257]\n",
      "Epoch 43 Loss: [399.27689561]\n",
      "Epoch 44 Loss: [402.81184253]\n",
      "Epoch 45 Loss: [387.94143071]\n",
      "Epoch 46 Loss: [403.68113403]\n",
      "Epoch 47 Loss: [399.62611143]\n",
      "Epoch 48 Loss: [384.50068257]\n",
      "Epoch 49 Loss: [383.44192405]\n",
      "Epoch 50 Loss: [392.39559482]\n",
      "Epoch 51 Loss: [369.57036017]\n",
      "Epoch 52 Loss: [371.77219233]\n",
      "Epoch 53 Loss: [388.87193731]\n",
      "Epoch 54 Loss: [386.75020247]\n",
      "Epoch 55 Loss: [360.71233108]\n",
      "Epoch 56 Loss: [362.80988468]\n",
      "Epoch 57 Loss: [379.7106137]\n",
      "Epoch 58 Loss: [384.30153369]\n",
      "Epoch 59 Loss: [360.89432191]\n",
      "Epoch 60 Loss: [358.20399293]\n",
      "Epoch 61 Loss: [392.71074529]\n",
      "Epoch 62 Loss: [369.89957384]\n",
      "Epoch 63 Loss: [359.68965195]\n",
      "Epoch 64 Loss: [364.08924042]\n",
      "Epoch 65 Loss: [363.67585481]\n",
      "Epoch 66 Loss: [362.58855052]\n",
      "Epoch 67 Loss: [351.44386187]\n",
      "Epoch 68 Loss: [346.01391747]\n",
      "Epoch 69 Loss: [379.11831094]\n",
      "Epoch 70 Loss: [364.99891567]\n",
      "Epoch 71 Loss: [363.55693676]\n",
      "Epoch 72 Loss: [359.17085161]\n",
      "Epoch 73 Loss: [346.96567449]\n",
      "Epoch 74 Loss: [342.25532643]\n",
      "Epoch 75 Loss: [339.11600252]\n",
      "Epoch 76 Loss: [364.61675721]\n",
      "Epoch 77 Loss: [365.90518337]\n",
      "Epoch 78 Loss: [370.19950854]\n",
      "Epoch 79 Loss: [354.48947854]\n",
      "Epoch 80 Loss: [351.90716009]\n",
      "Epoch 81 Loss: [346.33523915]\n",
      "Epoch 82 Loss: [351.45247478]\n",
      "Epoch 83 Loss: [346.29640993]\n",
      "Epoch 84 Loss: [355.93573872]\n",
      "Epoch 85 Loss: [336.7318636]\n",
      "Epoch 86 Loss: [361.75411956]\n",
      "Epoch 87 Loss: [362.57762265]\n",
      "Epoch 88 Loss: [362.87496407]\n",
      "Epoch 89 Loss: [335.34316824]\n",
      "Epoch 90 Loss: [338.35941632]\n",
      "Epoch 91 Loss: [315.06592183]\n",
      "Epoch 92 Loss: [358.34884662]\n",
      "Epoch 93 Loss: [331.2649526]\n",
      "Epoch 94 Loss: [327.70103715]\n",
      "Epoch 95 Loss: [348.95630455]\n",
      "Epoch 96 Loss: [332.22505494]\n",
      "Epoch 97 Loss: [331.61331372]\n",
      "Epoch 98 Loss: [349.60679028]\n",
      "Epoch 99 Loss: [324.21020525]\n",
      "Epoch 100 Loss: [324.10262204]\n"
     ]
    }
   ],
   "source": [
    "W1, b1, W2, b2, W3, b3 = train_neural_network(\n",
    "    X_train, y_train, input_size, hidden_node_size1, hidden_node_size2, output_size,\n",
    "    epochs, learning_rate, dropout_rate, l2_lambda\n",
    ")"
   ]
  },
  {
   "cell_type": "markdown",
   "metadata": {},
   "source": [
    "# **5. Evaluate the Model**"
   ]
  },
  {
   "cell_type": "code",
   "execution_count": 49,
   "metadata": {},
   "outputs": [
    {
     "name": "stdout",
     "output_type": "stream",
     "text": [
      "Accuracy: 0.845\n",
      "Precision: 0.8350515455308748\n",
      "Recall: 0.8437499991210938\n",
      "F1 Score: 0.8393781874734922\n"
     ]
    }
   ],
   "source": [
    "confusion_matrix = evaluate_model(X_test, y_test, W1, b1, W2, b2, W3, b3, threshold=0.5)"
   ]
  },
  {
   "cell_type": "markdown",
   "metadata": {},
   "source": [
    "# **6. Visualization Of Confusion Matrix**"
   ]
  },
  {
   "cell_type": "code",
   "execution_count": 50,
   "metadata": {},
   "outputs": [
    {
     "data": {
      "image/png": "[encoded data removed]",
      "text/plain": [
       "<Figure size 600x600 with 2 Axes>"
      ]
     },
     "metadata": {},
     "output_type": "display_data"
    }
   ],
   "source": [
    "def plot_confusion_matrix(cm, classes, title='Confusion Matrix', cmap=plt.cm.BuGn):\n",
    "    plt.figure(figsize=(6, 6))\n",
    "    plt.imshow(cm, interpolation='nearest', cmap=cmap)\n",
    "    plt.title(title)\n",
    "    plt.colorbar(shrink=0.8)\n",
    "    tick_marks = np.arange(len(classes))\n",
    "    plt.xticks(tick_marks, classes)\n",
    "    plt.yticks(tick_marks, classes)\n",
    "    thresh = cm.max() / 2.\n",
    "    for i, j in np.ndindex(cm.shape):\n",
    "        plt.text(j, i, format(cm[i, j], 'd'),\n",
    "                 horizontalalignment=\"center\",\n",
    "                 verticalalignment=\"center\",\n",
    "                 color=\"white\" if cm[i, j] > thresh else \"black\")\n",
    "    plt.ylabel('Actual Label')\n",
    "    plt.xlabel('Predicted Label')\n",
    "    plt.show()\n",
    "\n",
    "class_names = ['Spam', 'Not Spam']\n",
    "plot_confusion_matrix(confusion_matrix, classes=class_names)"
   ]
  }
 ],
 "metadata": {
  "kernelspec": {
   "display_name": "myenv",
   "language": "python",
   "name": "python3"
  },
  "language_info": {
   "codemirror_mode": {
    "name": "ipython",
    "version": 3
   },
   "file_extension": ".py",
   "mimetype": "text/x-python",
   "name": "python",
   "nbconvert_exporter": "python",
   "pygments_lexer": "ipython3",
   "version": "3.12.6"
  }
 },
 "nbformat": 4,
 "nbformat_minor": 2
}
